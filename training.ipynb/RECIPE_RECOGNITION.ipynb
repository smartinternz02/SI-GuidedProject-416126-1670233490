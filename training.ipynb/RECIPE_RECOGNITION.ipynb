{
 "cells": [
  {
   "cell_type": "code",
   "execution_count": 1,
   "id": "ff58c81d",
   "metadata": {},
   "outputs": [],
   "source": [
    "import numpy as np#used for numerical analysis\n",
    "import tensorflow #open source used for both ML and DL for computation\n",
    "from tensorflow.keras.models import Sequential #it is a plain stack of layers\n",
    "from tensorflow.keras import layers #A layer consists of a tensor-in tensor-out computation function\n",
    "#Dense layer is the regular deeply connected neural network layer\n",
    "from tensorflow.keras.layers import Dense,Flatten\n",
    "#Faltten-used fot flattening the input or change the dimension\n",
    "from tensorflow.keras.layers import Dropout,Conv2D,MaxPooling2D #Convolutional layer\n",
    "#MaxPooling2D-for downsampling the image\n",
    "from keras.preprocessing.image import ImageDataGenerator"
   ]
  },
  {
   "cell_type": "code",
   "execution_count": 2,
   "id": "6dfb404a",
   "metadata": {},
   "outputs": [],
   "source": [
    "#setting parameter for Image Data agumentation to the traing data\n",
    "train_datagen=ImageDataGenerator(rescale=1./255,shear_range=0.2,zoom_range=0.2,horizontal_flip=True)"
   ]
  },
  {
   "cell_type": "code",
   "execution_count": 3,
   "id": "9b50efde",
   "metadata": {},
   "outputs": [],
   "source": [
    "#Image Data agumentation to the testing data\n",
    "test_datagen=ImageDataGenerator(rescale=1./255)"
   ]
  },
  {
   "cell_type": "code",
   "execution_count": 4,
   "id": "f4accccf",
   "metadata": {},
   "outputs": [
    {
     "name": "stdout",
     "output_type": "stream",
     "text": [
      "Found 2418 images belonging to 3 classes.\n"
     ]
    }
   ],
   "source": [
    "#performing data agumentation to train data\n",
    "x_train=train_datagen.flow_from_directory(directory=r'C:\\Users\\ANU\\Desktop\\MAJOR_PROJECT\\dataset\\training_set'\n",
    "                                          ,target_size=(64,64),batch_size=32,class_mode='categorical')"
   ]
  },
  {
   "cell_type": "code",
   "execution_count": 5,
   "id": "66c8b59e",
   "metadata": {},
   "outputs": [
    {
     "name": "stdout",
     "output_type": "stream",
     "text": [
      "Found 600 images belonging to 3 classes.\n"
     ]
    }
   ],
   "source": [
    "#performing data agumentation to test data\n",
    "x_test=test_datagen.flow_from_directory(directory=r'C:\\Users\\ANU\\Desktop\\MAJOR_PROJECT\\dataset\\test_set'\n",
    "                                        ,target_size=(64,64),batch_size=32,class_mode='categorical')"
   ]
  },
  {
   "cell_type": "code",
   "execution_count": 6,
   "id": "3f83b2d2",
   "metadata": {},
   "outputs": [
    {
     "name": "stdout",
     "output_type": "stream",
     "text": [
      "{'french_fries': 0, 'pizza': 1, 'samosa': 2}\n"
     ]
    }
   ],
   "source": [
    "print(x_train.class_indices)#checking the number of classes"
   ]
  },
  {
   "cell_type": "code",
   "execution_count": 7,
   "id": "d98ecfb1",
   "metadata": {},
   "outputs": [
    {
     "data": {
      "text/plain": [
       "Counter({0: 804, 1: 804, 2: 810})"
      ]
     },
     "execution_count": 7,
     "metadata": {},
     "output_type": "execute_result"
    }
   ],
   "source": [
    "from collections import Counter as c\n",
    "c(x_train.labels)"
   ]
  },
  {
   "cell_type": "code",
   "execution_count": 8,
   "id": "cc247b4b",
   "metadata": {},
   "outputs": [],
   "source": [
    "# create model\n",
    "model=Sequential()\n",
    "# adding model layer\n",
    "model.add(Conv2D(32,(3,3),input_shape=(64,64,3),activation='relu'))#convolutional layer\n",
    "model.add(MaxPooling2D(pool_size=(2,2))) #MaxPooling2D-for downsampling the input\n",
    "\n",
    "model.add(Conv2D(32,(3,3),activation='relu'))\n",
    "model.add(MaxPooling2D(pool_size=(2,2)))\n",
    "model.add(Dropout(0.2))#droping input randomly for preventing from overfiting\n",
    "\n",
    "\n",
    "model.add(Flatten())#flatten the dimension of the image\n",
    "model.add(Dense(32))#deeply connected neural network layers.\n",
    "model.add(Dense(3,activation='softmax'))#output layer with 3 neurons"
   ]
  },
  {
   "cell_type": "code",
   "execution_count": 9,
   "id": "817c204f",
   "metadata": {},
   "outputs": [
    {
     "name": "stdout",
     "output_type": "stream",
     "text": [
      "Model: \"sequential\"\n",
      "_________________________________________________________________\n",
      " Layer (type)                Output Shape              Param #   \n",
      "=================================================================\n",
      " conv2d (Conv2D)             (None, 62, 62, 32)        896       \n",
      "                                                                 \n",
      " max_pooling2d (MaxPooling2D  (None, 31, 31, 32)       0         \n",
      " )                                                               \n",
      "                                                                 \n",
      " conv2d_1 (Conv2D)           (None, 29, 29, 32)        9248      \n",
      "                                                                 \n",
      " max_pooling2d_1 (MaxPooling  (None, 14, 14, 32)       0         \n",
      " 2D)                                                             \n",
      "                                                                 \n",
      " dropout (Dropout)           (None, 14, 14, 32)        0         \n",
      "                                                                 \n",
      " flatten (Flatten)           (None, 6272)              0         \n",
      "                                                                 \n",
      " dense (Dense)               (None, 32)                200736    \n",
      "                                                                 \n",
      " dense_1 (Dense)             (None, 3)                 99        \n",
      "                                                                 \n",
      "=================================================================\n",
      "Total params: 210,979\n",
      "Trainable params: 210,979\n",
      "Non-trainable params: 0\n",
      "_________________________________________________________________\n"
     ]
    }
   ],
   "source": [
    "model.summary()#summary of our model"
   ]
  },
  {
   "cell_type": "code",
   "execution_count": 10,
   "id": "f4793e76",
   "metadata": {},
   "outputs": [],
   "source": [
    "# Compile model\n",
    "model.compile(optimizer='adam',loss='categorical_crossentropy',metrics=['accuracy'])"
   ]
  },
  {
   "cell_type": "code",
   "execution_count": 11,
   "id": "6db9a745",
   "metadata": {},
   "outputs": [
    {
     "name": "stderr",
     "output_type": "stream",
     "text": [
      "C:\\Users\\ANU\\AppData\\Local\\Temp\\ipykernel_7360\\870521212.py:2: UserWarning: `Model.fit_generator` is deprecated and will be removed in a future version. Please use `Model.fit`, which supports generators.\n",
      "  model.fit_generator(generator=x_train,steps_per_epoch = len(x_train),\n"
     ]
    },
    {
     "name": "stdout",
     "output_type": "stream",
     "text": [
      "Epoch 1/80\n",
      "76/76 [==============================] - 203s 3s/step - loss: 1.0696 - accuracy: 0.4165 - val_loss: 0.9338 - val_accuracy: 0.5967\n",
      "Epoch 2/80\n",
      "76/76 [==============================] - 84s 1s/step - loss: 0.9426 - accuracy: 0.5339 - val_loss: 0.9148 - val_accuracy: 0.5250\n",
      "Epoch 3/80\n",
      "76/76 [==============================] - 85s 1s/step - loss: 0.8706 - accuracy: 0.5873 - val_loss: 0.7537 - val_accuracy: 0.6800\n",
      "Epoch 4/80\n",
      "76/76 [==============================] - 84s 1s/step - loss: 0.8322 - accuracy: 0.6079 - val_loss: 0.9346 - val_accuracy: 0.5717\n",
      "Epoch 5/80\n",
      "76/76 [==============================] - 85s 1s/step - loss: 0.7802 - accuracy: 0.6427 - val_loss: 0.6961 - val_accuracy: 0.6967\n",
      "Epoch 6/80\n",
      "76/76 [==============================] - 85s 1s/step - loss: 0.7363 - accuracy: 0.6725 - val_loss: 0.8688 - val_accuracy: 0.6167\n",
      "Epoch 7/80\n",
      "76/76 [==============================] - 84s 1s/step - loss: 0.7133 - accuracy: 0.6836 - val_loss: 0.6469 - val_accuracy: 0.7283\n",
      "Epoch 8/80\n",
      "76/76 [==============================] - 85s 1s/step - loss: 0.7025 - accuracy: 0.6894 - val_loss: 0.7166 - val_accuracy: 0.7017\n",
      "Epoch 9/80\n",
      "76/76 [==============================] - 89s 1s/step - loss: 0.6721 - accuracy: 0.7105 - val_loss: 0.8333 - val_accuracy: 0.6567\n",
      "Epoch 10/80\n",
      "76/76 [==============================] - 85s 1s/step - loss: 0.6384 - accuracy: 0.7221 - val_loss: 0.5901 - val_accuracy: 0.7683\n",
      "Epoch 11/80\n",
      "76/76 [==============================] - 86s 1s/step - loss: 0.6304 - accuracy: 0.7291 - val_loss: 0.9689 - val_accuracy: 0.5833\n",
      "Epoch 12/80\n",
      "76/76 [==============================] - 85s 1s/step - loss: 0.6413 - accuracy: 0.7262 - val_loss: 0.5485 - val_accuracy: 0.7683\n",
      "Epoch 13/80\n",
      "76/76 [==============================] - 85s 1s/step - loss: 0.5905 - accuracy: 0.7448 - val_loss: 0.6837 - val_accuracy: 0.7183\n",
      "Epoch 14/80\n",
      "76/76 [==============================] - 144s 2s/step - loss: 0.5514 - accuracy: 0.7663 - val_loss: 0.6253 - val_accuracy: 0.7250\n",
      "Epoch 15/80\n",
      "76/76 [==============================] - 170s 2s/step - loss: 0.5330 - accuracy: 0.7796 - val_loss: 0.7738 - val_accuracy: 0.7033\n",
      "Epoch 16/80\n",
      "76/76 [==============================] - 85s 1s/step - loss: 0.5264 - accuracy: 0.7800 - val_loss: 0.5537 - val_accuracy: 0.8017\n",
      "Epoch 17/80\n",
      "76/76 [==============================] - 85s 1s/step - loss: 0.5087 - accuracy: 0.7866 - val_loss: 0.5169 - val_accuracy: 0.8033\n",
      "Epoch 18/80\n",
      "76/76 [==============================] - 85s 1s/step - loss: 0.4977 - accuracy: 0.7969 - val_loss: 0.6164 - val_accuracy: 0.7600\n",
      "Epoch 19/80\n",
      "76/76 [==============================] - 148s 2s/step - loss: 0.5105 - accuracy: 0.7787 - val_loss: 0.6407 - val_accuracy: 0.7617\n",
      "Epoch 20/80\n",
      "76/76 [==============================] - 175s 2s/step - loss: 0.5039 - accuracy: 0.8002 - val_loss: 0.5183 - val_accuracy: 0.8033\n",
      "Epoch 21/80\n",
      "76/76 [==============================] - 85s 1s/step - loss: 0.4598 - accuracy: 0.8048 - val_loss: 0.7859 - val_accuracy: 0.6967\n",
      "Epoch 22/80\n",
      "76/76 [==============================] - 85s 1s/step - loss: 0.4646 - accuracy: 0.8122 - val_loss: 0.5969 - val_accuracy: 0.7783\n",
      "Epoch 23/80\n",
      "76/76 [==============================] - 156s 2s/step - loss: 0.4440 - accuracy: 0.8284 - val_loss: 0.5719 - val_accuracy: 0.7867\n",
      "Epoch 24/80\n",
      "76/76 [==============================] - 85s 1s/step - loss: 0.4602 - accuracy: 0.8160 - val_loss: 0.5263 - val_accuracy: 0.8133\n",
      "Epoch 25/80\n",
      "76/76 [==============================] - 86s 1s/step - loss: 0.4240 - accuracy: 0.8280 - val_loss: 0.5351 - val_accuracy: 0.8050\n",
      "Epoch 26/80\n",
      "76/76 [==============================] - 224s 3s/step - loss: 0.4485 - accuracy: 0.8184 - val_loss: 0.6385 - val_accuracy: 0.7833\n",
      "Epoch 27/80\n",
      "76/76 [==============================] - 90s 1s/step - loss: 0.4206 - accuracy: 0.8275 - val_loss: 0.5766 - val_accuracy: 0.8100\n",
      "Epoch 28/80\n",
      "76/76 [==============================] - 86s 1s/step - loss: 0.4562 - accuracy: 0.8238 - val_loss: 0.6166 - val_accuracy: 0.7817\n",
      "Epoch 29/80\n",
      "76/76 [==============================] - 86s 1s/step - loss: 0.4143 - accuracy: 0.8333 - val_loss: 0.4935 - val_accuracy: 0.8283\n",
      "Epoch 30/80\n",
      "76/76 [==============================] - 85s 1s/step - loss: 0.4112 - accuracy: 0.8346 - val_loss: 0.4841 - val_accuracy: 0.8183\n",
      "Epoch 31/80\n",
      "76/76 [==============================] - 85s 1s/step - loss: 0.4079 - accuracy: 0.8366 - val_loss: 0.5416 - val_accuracy: 0.7933\n",
      "Epoch 32/80\n",
      "76/76 [==============================] - 85s 1s/step - loss: 0.3842 - accuracy: 0.8490 - val_loss: 0.5144 - val_accuracy: 0.8333\n",
      "Epoch 33/80\n",
      "76/76 [==============================] - 124s 2s/step - loss: 0.3628 - accuracy: 0.8581 - val_loss: 0.5420 - val_accuracy: 0.8167\n",
      "Epoch 34/80\n",
      "76/76 [==============================] - 114s 1s/step - loss: 0.3697 - accuracy: 0.8495 - val_loss: 0.6037 - val_accuracy: 0.8083\n",
      "Epoch 35/80\n",
      "76/76 [==============================] - 133s 2s/step - loss: 0.3882 - accuracy: 0.8478 - val_loss: 0.4619 - val_accuracy: 0.8333\n",
      "Epoch 36/80\n",
      "76/76 [==============================] - 148s 2s/step - loss: 0.3934 - accuracy: 0.8437 - val_loss: 0.4397 - val_accuracy: 0.8417\n",
      "Epoch 37/80\n",
      "76/76 [==============================] - 128s 2s/step - loss: 0.3594 - accuracy: 0.8619 - val_loss: 0.4608 - val_accuracy: 0.8317\n",
      "Epoch 38/80\n",
      "76/76 [==============================] - 143s 2s/step - loss: 0.4122 - accuracy: 0.8366 - val_loss: 0.5515 - val_accuracy: 0.8200\n",
      "Epoch 39/80\n",
      "76/76 [==============================] - 130s 2s/step - loss: 0.3508 - accuracy: 0.8652 - val_loss: 0.5008 - val_accuracy: 0.8350\n",
      "Epoch 40/80\n",
      "76/76 [==============================] - 118s 2s/step - loss: 0.3513 - accuracy: 0.8577 - val_loss: 0.4702 - val_accuracy: 0.8333\n",
      "Epoch 41/80\n",
      "76/76 [==============================] - 86s 1s/step - loss: 0.3428 - accuracy: 0.8610 - val_loss: 0.5764 - val_accuracy: 0.8067\n",
      "Epoch 42/80\n",
      "76/76 [==============================] - 88s 1s/step - loss: 0.3408 - accuracy: 0.8710 - val_loss: 0.7816 - val_accuracy: 0.7667\n",
      "Epoch 43/80\n",
      "76/76 [==============================] - 86s 1s/step - loss: 0.3315 - accuracy: 0.8644 - val_loss: 0.6450 - val_accuracy: 0.8117\n",
      "Epoch 44/80\n",
      "76/76 [==============================] - 89s 1s/step - loss: 0.3229 - accuracy: 0.8689 - val_loss: 0.6701 - val_accuracy: 0.7983\n",
      "Epoch 45/80\n",
      "76/76 [==============================] - 86s 1s/step - loss: 0.3468 - accuracy: 0.8639 - val_loss: 0.5583 - val_accuracy: 0.8167\n",
      "Epoch 46/80\n",
      "76/76 [==============================] - 86s 1s/step - loss: 0.3230 - accuracy: 0.8697 - val_loss: 0.5839 - val_accuracy: 0.8167\n",
      "Epoch 47/80\n",
      "76/76 [==============================] - 87s 1s/step - loss: 0.3248 - accuracy: 0.8739 - val_loss: 0.7127 - val_accuracy: 0.7867\n",
      "Epoch 48/80\n",
      "76/76 [==============================] - 87s 1s/step - loss: 0.3156 - accuracy: 0.8780 - val_loss: 0.4926 - val_accuracy: 0.8350\n",
      "Epoch 49/80\n",
      "76/76 [==============================] - 104s 1s/step - loss: 0.3091 - accuracy: 0.8784 - val_loss: 0.5683 - val_accuracy: 0.8217\n",
      "Epoch 50/80\n",
      "76/76 [==============================] - 130s 2s/step - loss: 0.2826 - accuracy: 0.8892 - val_loss: 0.6098 - val_accuracy: 0.8067\n",
      "Epoch 51/80\n",
      "76/76 [==============================] - 144s 2s/step - loss: 0.3161 - accuracy: 0.8850 - val_loss: 0.5630 - val_accuracy: 0.8267\n",
      "Epoch 52/80\n",
      "76/76 [==============================] - 126s 2s/step - loss: 0.3035 - accuracy: 0.8776 - val_loss: 0.5937 - val_accuracy: 0.8283\n",
      "Epoch 53/80\n",
      "76/76 [==============================] - 95s 1s/step - loss: 0.2936 - accuracy: 0.8801 - val_loss: 0.5826 - val_accuracy: 0.8417\n",
      "Epoch 54/80\n",
      "76/76 [==============================] - 85s 1s/step - loss: 0.2984 - accuracy: 0.8809 - val_loss: 0.5230 - val_accuracy: 0.8583\n",
      "Epoch 55/80\n",
      "76/76 [==============================] - 99s 1s/step - loss: 0.3297 - accuracy: 0.8726 - val_loss: 0.5379 - val_accuracy: 0.8117\n",
      "Epoch 56/80\n",
      "76/76 [==============================] - 89s 1s/step - loss: 0.2967 - accuracy: 0.8883 - val_loss: 0.8850 - val_accuracy: 0.7400\n",
      "Epoch 57/80\n",
      "76/76 [==============================] - 90s 1s/step - loss: 0.2851 - accuracy: 0.8838 - val_loss: 0.6131 - val_accuracy: 0.8133\n",
      "Epoch 58/80\n",
      "76/76 [==============================] - 89s 1s/step - loss: 0.2909 - accuracy: 0.8908 - val_loss: 0.6519 - val_accuracy: 0.8133\n",
      "Epoch 59/80\n"
     ]
    },
    {
     "name": "stdout",
     "output_type": "stream",
     "text": [
      "76/76 [==============================] - 91s 1s/step - loss: 0.2822 - accuracy: 0.8933 - val_loss: 0.5486 - val_accuracy: 0.8250\n",
      "Epoch 60/80\n",
      "76/76 [==============================] - 87s 1s/step - loss: 0.2916 - accuracy: 0.8888 - val_loss: 0.7690 - val_accuracy: 0.7767\n",
      "Epoch 61/80\n",
      "76/76 [==============================] - 87s 1s/step - loss: 0.3153 - accuracy: 0.8743 - val_loss: 0.5498 - val_accuracy: 0.8267\n",
      "Epoch 62/80\n",
      "76/76 [==============================] - 86s 1s/step - loss: 0.2633 - accuracy: 0.9041 - val_loss: 0.7476 - val_accuracy: 0.7933\n",
      "Epoch 63/80\n",
      "76/76 [==============================] - 87s 1s/step - loss: 0.2895 - accuracy: 0.8854 - val_loss: 0.5595 - val_accuracy: 0.8317\n",
      "Epoch 64/80\n",
      "76/76 [==============================] - 87s 1s/step - loss: 0.2739 - accuracy: 0.8950 - val_loss: 0.6009 - val_accuracy: 0.8283\n",
      "Epoch 65/80\n",
      "76/76 [==============================] - 85s 1s/step - loss: 0.2806 - accuracy: 0.8879 - val_loss: 0.5211 - val_accuracy: 0.8400\n",
      "Epoch 66/80\n",
      "76/76 [==============================] - 84s 1s/step - loss: 0.2620 - accuracy: 0.9020 - val_loss: 0.5195 - val_accuracy: 0.8383\n",
      "Epoch 67/80\n",
      "76/76 [==============================] - 85s 1s/step - loss: 0.2671 - accuracy: 0.8966 - val_loss: 0.7099 - val_accuracy: 0.8083\n",
      "Epoch 68/80\n",
      "76/76 [==============================] - 84s 1s/step - loss: 0.2522 - accuracy: 0.9049 - val_loss: 0.8280 - val_accuracy: 0.7850\n",
      "Epoch 69/80\n",
      "76/76 [==============================] - 84s 1s/step - loss: 0.2774 - accuracy: 0.8929 - val_loss: 0.6252 - val_accuracy: 0.8217\n",
      "Epoch 70/80\n",
      "76/76 [==============================] - 84s 1s/step - loss: 0.2468 - accuracy: 0.8999 - val_loss: 0.6154 - val_accuracy: 0.8250\n",
      "Epoch 71/80\n",
      "76/76 [==============================] - 84s 1s/step - loss: 0.2528 - accuracy: 0.8962 - val_loss: 0.6328 - val_accuracy: 0.8333\n",
      "Epoch 72/80\n",
      "76/76 [==============================] - 87s 1s/step - loss: 0.2452 - accuracy: 0.9086 - val_loss: 0.6627 - val_accuracy: 0.8250\n",
      "Epoch 73/80\n",
      "76/76 [==============================] - 84s 1s/step - loss: 0.2368 - accuracy: 0.9090 - val_loss: 0.7462 - val_accuracy: 0.7867\n",
      "Epoch 74/80\n",
      "76/76 [==============================] - 94s 1s/step - loss: 0.2658 - accuracy: 0.8900 - val_loss: 0.6187 - val_accuracy: 0.8183\n",
      "Epoch 75/80\n",
      "76/76 [==============================] - 93s 1s/step - loss: 0.2402 - accuracy: 0.9132 - val_loss: 0.5995 - val_accuracy: 0.8367\n",
      "Epoch 76/80\n",
      "76/76 [==============================] - 90s 1s/step - loss: 0.2585 - accuracy: 0.8929 - val_loss: 0.6949 - val_accuracy: 0.8167\n",
      "Epoch 77/80\n",
      "76/76 [==============================] - 89s 1s/step - loss: 0.2401 - accuracy: 0.9065 - val_loss: 0.5496 - val_accuracy: 0.8417\n",
      "Epoch 78/80\n",
      "76/76 [==============================] - 88s 1s/step - loss: 0.2275 - accuracy: 0.9173 - val_loss: 0.7436 - val_accuracy: 0.8000\n",
      "Epoch 79/80\n",
      "76/76 [==============================] - 88s 1s/step - loss: 0.2217 - accuracy: 0.9132 - val_loss: 0.7049 - val_accuracy: 0.8200\n",
      "Epoch 80/80\n",
      "76/76 [==============================] - 88s 1s/step - loss: 0.2459 - accuracy: 0.9074 - val_loss: 0.7469 - val_accuracy: 0.8100\n"
     ]
    },
    {
     "data": {
      "text/plain": [
       "<keras.callbacks.History at 0x240a003f250>"
      ]
     },
     "execution_count": 11,
     "metadata": {},
     "output_type": "execute_result"
    }
   ],
   "source": [
    "# Fit the model\n",
    "model.fit_generator(generator=x_train,steps_per_epoch = len(x_train),\n",
    "                    epochs=80, validation_data=x_test,validation_steps = len(x_test))"
   ]
  },
  {
   "cell_type": "code",
   "execution_count": 12,
   "id": "53ac0950",
   "metadata": {},
   "outputs": [],
   "source": [
    "# Save the model\n",
    "model.save('food.h5')"
   ]
  },
  {
   "cell_type": "code",
   "execution_count": 13,
   "id": "4fefe77e",
   "metadata": {},
   "outputs": [],
   "source": [
    "from tensorflow.keras.models import load_model\n",
    "from keras.preprocessing import image\n",
    "model = load_model(\"food.h5\") #loading the model for testing"
   ]
  },
  {
   "cell_type": "code",
   "execution_count": 14,
   "id": "6e6e0a5b",
   "metadata": {},
   "outputs": [],
   "source": [
    "from keras_preprocessing import image"
   ]
  },
  {
   "cell_type": "code",
   "execution_count": 15,
   "id": "ea391a20",
   "metadata": {},
   "outputs": [],
   "source": [
    "from keras.utils import load_img, img_to_array"
   ]
  },
  {
   "cell_type": "code",
   "execution_count": 16,
   "id": "b2a36e69",
   "metadata": {},
   "outputs": [],
   "source": [
    "# make a prediction for a new image.\n",
    "from keras_preprocessing.image import load_img\n",
    "from keras_preprocessing.image import img_to_array"
   ]
  },
  {
   "cell_type": "code",
   "execution_count": 17,
   "id": "337b09b4",
   "metadata": {},
   "outputs": [],
   "source": [
    "import tensorflow.keras as keras\n",
    "from tensorflow.keras import Model\n",
    "from tensorflow.keras.models import Sequential"
   ]
  },
  {
   "cell_type": "code",
   "execution_count": 18,
   "id": "8edad4f0",
   "metadata": {},
   "outputs": [
    {
     "data": {
      "text/plain": [
       "0"
      ]
     },
     "execution_count": 18,
     "metadata": {},
     "output_type": "execute_result"
    }
   ],
   "source": [
    "preds=model.predict\n",
    "np.argmax(preds)"
   ]
  },
  {
   "cell_type": "code",
   "execution_count": 19,
   "id": "a3ceec30",
   "metadata": {},
   "outputs": [
    {
     "name": "stdout",
     "output_type": "stream",
     "text": [
      "1/1 [==============================] - 0s 468ms/step\n"
     ]
    },
    {
     "data": {
      "text/plain": [
       "array([2], dtype=int64)"
      ]
     },
     "execution_count": 19,
     "metadata": {},
     "output_type": "execute_result"
    }
   ],
   "source": [
    "img = image.load_img(r\"C:\\Users\\ANU\\Desktop\\MAJOR_PROJECT\\dataset\\samosa.jpg\",target_size= (64,64))#loading of the image\n",
    "x = image.img_to_array(img)#image to array\n",
    "x = np.expand_dims(x,axis = 0)#changing the shape\n",
    "pred = np.argmax(model.predict(x), axis=-1)#predicting the classes\n",
    "pred"
   ]
  },
  {
   "cell_type": "code",
   "execution_count": 20,
   "id": "09ad3c19",
   "metadata": {},
   "outputs": [
    {
     "data": {
      "text/plain": [
       "<numpy.ndindex at 0x240a13cbbb0>"
      ]
     },
     "execution_count": 20,
     "metadata": {},
     "output_type": "execute_result"
    }
   ],
   "source": [
    ">>> np.ndindex(np.random.rand(60,60).shape)"
   ]
  },
  {
   "cell_type": "code",
   "execution_count": 21,
   "id": "22dbffb2",
   "metadata": {},
   "outputs": [
    {
     "data": {
      "text/plain": [
       "2"
      ]
     },
     "execution_count": 21,
     "metadata": {},
     "output_type": "execute_result"
    }
   ],
   "source": [
    "pred[0]"
   ]
  },
  {
   "cell_type": "code",
   "execution_count": 22,
   "id": "09222026",
   "metadata": {},
   "outputs": [
    {
     "data": {
      "text/plain": [
       "'samosa'"
      ]
     },
     "execution_count": 22,
     "metadata": {},
     "output_type": "execute_result"
    }
   ],
   "source": [
    "index=['french_fries', 'pizza', 'samosa']\n",
    "result=str(index[pred[0]])\n",
    "result"
   ]
  }
 ],
 "metadata": {
  "kernelspec": {
   "display_name": "Python 3 (ipykernel)",
   "language": "python",
   "name": "python3"
  },
  "language_info": {
   "codemirror_mode": {
    "name": "ipython",
    "version": 3
   },
   "file_extension": ".py",
   "mimetype": "text/x-python",
   "name": "python",
   "nbconvert_exporter": "python",
   "pygments_lexer": "ipython3",
   "version": "3.9.13"
  }
 },
 "nbformat": 4,
 "nbformat_minor": 5
}
